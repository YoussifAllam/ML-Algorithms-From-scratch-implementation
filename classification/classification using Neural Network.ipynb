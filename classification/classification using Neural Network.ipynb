{
 "cells": [
  {
   "cell_type": "code",
   "execution_count": 1,
   "metadata": {},
   "outputs": [],
   "source": [
    "import numpy as np\n",
    "neuron = 4\n",
    "\n",
    "def sigmoid(x):\n",
    "    return 1.0/(1+ np.exp(-x))\n",
    "\n",
    "def sigmoid_derivative(x):\n",
    "    return x * (1.0 - x)\n"
   ]
  },
  {
   "cell_type": "code",
   "execution_count": 2,
   "metadata": {},
   "outputs": [],
   "source": [
    "class NeuralNetwork:\n",
    "    def __init__(self, x, y):\n",
    "        self.input = x\n",
    "        print('inputs \\n' , self.input)\n",
    "        print()\n",
    "        self.weights1   = np.random.rand(self.input.shape[1],neuron) \n",
    "        print('weights1 \\n',self.weights1)\n",
    "        print()\n",
    "        self.weights2   = np.random.rand(neuron,1)                 \n",
    "        print('weights2 \\n',self.weights2)\n",
    "        print()\n",
    "        self.y          = y\n",
    "        print('y \\n',self.y)\n",
    "        print()\n",
    "        self.output     = np.zeros(self.y.shape) # y hat\n",
    "        print('output \\n',self.output)\n",
    "        print()\n",
    "        \n",
    "    def feedforward(self):\n",
    "        self.layer1 = sigmoid(np.dot(self.input, self.weights1))\n",
    "#        print('layer 1 \\n',self.layer1)\n",
    "#        print()        \n",
    "        self.output = sigmoid(np.dot(self.layer1, self.weights2))\n",
    "#        print('output \\n',self.output)\n",
    "#        print()\n",
    "        \n",
    "    def backprop(self):\n",
    "        # application of the chain rule to find derivative of the loss function with respect to weights2 and weights1\n",
    "        d_weights2 = np.dot(self.layer1.T, (2*(self.y - self.output) * sigmoid_derivative(self.output)))\n",
    "#        print('d_weights2  \\n',d_weights2  )\n",
    "#        print()        \n",
    "        d_weights1 = np.dot(self.input.T,\n",
    "                            (np.dot(2*(self.y - self.output) * sigmoid_derivative(self.output),\n",
    "                                    self.weights2.T) * sigmoid_derivative(self.layer1)))\n",
    "#        print('d_weights1 \\n',d_weights1)\n",
    "#        print()        \n",
    "\n",
    "        # update the weights with the derivative (slope) of the loss function\n",
    "        self.weights1 += d_weights1\n",
    "        self.weights2 += d_weights2"
   ]
  },
  {
   "cell_type": "code",
   "execution_count": 3,
   "metadata": {},
   "outputs": [],
   "source": [
    "X = np.array([[0,0,1],\n",
    "              [0,1,1],\n",
    "              [1,0,1],\n",
    "              [1,1,1]])"
   ]
  },
  {
   "cell_type": "code",
   "execution_count": 4,
   "metadata": {},
   "outputs": [],
   "source": [
    "y = np.array([[0],\n",
    "              [1],\n",
    "              [1],\n",
    "              [0]])"
   ]
  },
  {
   "cell_type": "code",
   "execution_count": 5,
   "metadata": {},
   "outputs": [
    {
     "name": "stdout",
     "output_type": "stream",
     "text": [
      "inputs \n",
      " [[0 0 1]\n",
      " [0 1 1]\n",
      " [1 0 1]\n",
      " [1 1 1]]\n",
      "\n",
      "weights1 \n",
      " [[0.47813029 0.00386045 0.5028861  0.06235384]\n",
      " [0.14110895 0.65850577 0.69188124 0.34426238]\n",
      " [0.76516921 0.80833371 0.3626931  0.80397431]]\n",
      "\n",
      "weights2 \n",
      " [[0.8180286 ]\n",
      " [0.34545246]\n",
      " [0.4402345 ]\n",
      " [0.97202798]]\n",
      "\n",
      "y \n",
      " [[0]\n",
      " [1]\n",
      " [1]\n",
      " [0]]\n",
      "\n",
      "output \n",
      " [[0.]\n",
      " [0.]\n",
      " [0.]\n",
      " [0.]]\n",
      "\n",
      "[[0.00217023]\n",
      " [0.99475458]\n",
      " [0.99415227]\n",
      " [0.00698889]]\n"
     ]
    }
   ],
   "source": [
    "nn = NeuralNetwork(X,y)\n",
    "\n",
    "for i in range(20000):\n",
    "    nn.feedforward()\n",
    "    nn.backprop()\n",
    "#    print('--------------------------------')\n",
    "#\n",
    "print(nn.output)"
   ]
  },
  {
   "cell_type": "code",
   "execution_count": null,
   "metadata": {},
   "outputs": [],
   "source": []
  }
 ],
 "metadata": {
  "kernelspec": {
   "display_name": "Python 3",
   "language": "python",
   "name": "python3"
  },
  "language_info": {
   "codemirror_mode": {
    "name": "ipython",
    "version": 3
   },
   "file_extension": ".py",
   "mimetype": "text/x-python",
   "name": "python",
   "nbconvert_exporter": "python",
   "pygments_lexer": "ipython3",
   "version": "3.11.4"
  },
  "orig_nbformat": 4
 },
 "nbformat": 4,
 "nbformat_minor": 2
}
